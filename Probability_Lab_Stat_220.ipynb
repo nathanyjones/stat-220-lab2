{
  "nbformat": 4,
  "nbformat_minor": 0,
  "metadata": {
    "colab": {
      "provenance": [],
      "include_colab_link": true
    },
    "kernelspec": {
      "name": "python3",
      "display_name": "Python 3"
    },
    "language_info": {
      "name": "python"
    }
  },
  "cells": [
    {
      "cell_type": "markdown",
      "metadata": {
        "id": "view-in-github",
        "colab_type": "text"
      },
      "source": [
        "<a href=\"https://colab.research.google.com/github/nathanyjones/stat-220-lab2/blob/main/Probability_Lab_Stat_220.ipynb\" target=\"_parent\"><img src=\"https://colab.research.google.com/assets/colab-badge.svg\" alt=\"Open In Colab\"/></a>"
      ]
    },
    {
      "cell_type": "markdown",
      "source": [
        "# Stat 220 Lab: Probability Calculation for Red Dragon Inn"
      ],
      "metadata": {
        "id": "K2eJXcxnevGx"
      }
    },
    {
      "cell_type": "markdown",
      "source": [
        "## Sum Greater Function:"
      ],
      "metadata": {
        "id": "VzzKN3e0fXeT"
      }
    },
    {
      "cell_type": "markdown",
      "source": [
        "### Implementation"
      ],
      "metadata": {
        "id": "0MpHU9YMhFX6"
      }
    },
    {
      "cell_type": "code",
      "source": [],
      "metadata": {
        "id": "uYDBhOiQhHPW"
      },
      "execution_count": null,
      "outputs": []
    },
    {
      "cell_type": "markdown",
      "source": [
        "### Example Use"
      ],
      "metadata": {
        "id": "6mac4mdKhHgk"
      }
    },
    {
      "cell_type": "code",
      "source": [],
      "metadata": {
        "id": "yVhYxHB_hKUP"
      },
      "execution_count": null,
      "outputs": []
    },
    {
      "cell_type": "markdown",
      "source": [],
      "metadata": {
        "id": "J-Y1Of3zhKc2"
      }
    },
    {
      "cell_type": "markdown",
      "source": [
        "## At Least One Function:"
      ],
      "metadata": {
        "id": "hdMqsLjbfezB"
      }
    },
    {
      "cell_type": "markdown",
      "source": [
        "### Implementation"
      ],
      "metadata": {
        "id": "4LpvGo9jgPsu"
      }
    },
    {
      "cell_type": "code",
      "source": [],
      "metadata": {
        "id": "EYEngZyFfhZt"
      },
      "execution_count": null,
      "outputs": []
    },
    {
      "cell_type": "markdown",
      "source": [
        "### Example Use"
      ],
      "metadata": {
        "id": "8feYt08Pgjjz"
      }
    },
    {
      "cell_type": "code",
      "source": [],
      "metadata": {
        "id": "eS12kv31g4g8"
      },
      "execution_count": null,
      "outputs": []
    },
    {
      "cell_type": "markdown",
      "source": [],
      "metadata": {
        "id": "o7ptttUCg41n"
      }
    },
    {
      "cell_type": "markdown",
      "source": [
        "## Exactly $r$ Maximums Function:"
      ],
      "metadata": {
        "id": "RMzKutQofiz4"
      }
    },
    {
      "cell_type": "markdown",
      "source": [
        "### Implementation"
      ],
      "metadata": {
        "id": "0n5aMq2kgIYA"
      }
    },
    {
      "cell_type": "code",
      "source": [],
      "metadata": {
        "id": "wgGhUwF6fxbe"
      },
      "execution_count": null,
      "outputs": []
    },
    {
      "cell_type": "markdown",
      "source": [
        "## Tries Until Threshold Function:"
      ],
      "metadata": {
        "id": "JaxzOZYcfqfx"
      }
    },
    {
      "cell_type": "markdown",
      "source": [
        "### Implementation"
      ],
      "metadata": {
        "id": "pMuN51Jvf0Cq"
      }
    },
    {
      "cell_type": "code",
      "source": [],
      "metadata": {
        "id": "6dXeXz8Jf2hU"
      },
      "execution_count": null,
      "outputs": []
    },
    {
      "cell_type": "markdown",
      "source": [
        "### Example Use"
      ],
      "metadata": {
        "id": "idRDYUduf3j-"
      }
    },
    {
      "cell_type": "code",
      "source": [],
      "metadata": {
        "id": "KOKnoDV0g7Sk"
      },
      "execution_count": null,
      "outputs": []
    },
    {
      "cell_type": "markdown",
      "source": [],
      "metadata": {
        "id": "4A9Mfx2Sg7iS"
      }
    },
    {
      "cell_type": "markdown",
      "source": [
        "## Results"
      ],
      "metadata": {
        "id": "AKX8b0DzgplO"
      }
    },
    {
      "cell_type": "markdown",
      "source": [],
      "metadata": {
        "id": "1DO_IuskhNwi"
      }
    }
  ]
}